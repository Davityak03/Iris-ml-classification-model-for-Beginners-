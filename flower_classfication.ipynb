{
 "cells": [
  {
   "cell_type": "code",
   "execution_count": 54,
   "id": "fc82cc63",
   "metadata": {},
   "outputs": [],
   "source": [
    "#importing the necessary modules\n",
    "from sklearn import datasets\n",
    "from sklearn.model_selection import train_test_split\n",
    "from sklearn import tree\n",
    "from sklearn import svm\n",
    "from sklearn.metrics import accuracy_score "
   ]
  },
  {
   "cell_type": "code",
   "execution_count": 55,
   "id": "7bd99d04",
   "metadata": {},
   "outputs": [],
   "source": [
    "#loading the dataset \n",
    "iris=datasets.load_iris()\n",
    "x=iris.data\n",
    "y=iris.target\n",
    "#splitting the dataset\n",
    "x_train,x_test,y_train,y_test=train_test_split(x,y,test_size=0.4,random_state=1)"
   ]
  },
  {
   "cell_type": "code",
   "execution_count": 56,
   "id": "103d4680",
   "metadata": {},
   "outputs": [
    {
     "name": "stdout",
     "output_type": "stream",
     "text": [
      "Test accuracy of the SVM model is : 0.9833333333333333\n"
     ]
    }
   ],
   "source": [
    "#creation of the model and fitting \n",
    "model1=svm.SVC()#svm model\n",
    "model1.fit(x_train,y_train)\n",
    "predictions=model1.predict(x_test)\n",
    "print(\"Test accuracy of the SVM model is :\",accuracy_score(y_test,predictions))"
   ]
  },
  {
   "cell_type": "code",
   "execution_count": 57,
   "id": "0397a455",
   "metadata": {},
   "outputs": [
    {
     "name": "stdout",
     "output_type": "stream",
     "text": [
      "Test accuracy of the DecisionTree model is : 0.9666666666666667\n"
     ]
    }
   ],
   "source": [
    "model2=tree.DecisionTreeClassifier()\n",
    "model2.fit(x_train,y_train)#decision tree classifier model\n",
    "predictions=model2.predict(x_test)\n",
    "print(\"Test accuracy of the DecisionTree model is :\",accuracy_score(y_test,predictions))"
   ]
  },
  {
   "cell_type": "code",
   "execution_count": 58,
   "id": "973992aa",
   "metadata": {},
   "outputs": [
    {
     "name": "stdout",
     "output_type": "stream",
     "text": [
      "The species of the flower is: Iris-versicolor\n"
     ]
    }
   ],
   "source": [
    "dist={0:\"Iris-setosa\",1:\"Iris-versicolor\",3:\"Iris-virginica\"}\n",
    "pred=model1.predict([[7, 3.2, 4.7, 1.4]])#making predictions\n",
    "print(\"The species of the flower is:\",dist[pred[0]])"
   ]
  },
  {
   "cell_type": "code",
   "execution_count": 59,
   "id": "4fdf2928",
   "metadata": {},
   "outputs": [
    {
     "name": "stdout",
     "output_type": "stream",
     "text": [
      "The species of the flower is: Iris-versicolor\n"
     ]
    }
   ],
   "source": [
    "pred2=model2.predict([[7, 3.2, 4.7, 1.4]])\n",
    "print(\"The species of the flower is:\",dist[pred2[0]])"
   ]
  },
  {
   "cell_type": "code",
   "execution_count": null,
   "id": "222584ba",
   "metadata": {},
   "outputs": [],
   "source": []
  }
 ],
 "metadata": {
  "kernelspec": {
   "display_name": "Python 3 (ipykernel)",
   "language": "python",
   "name": "python3"
  },
  "language_info": {
   "codemirror_mode": {
    "name": "ipython",
    "version": 3
   },
   "file_extension": ".py",
   "mimetype": "text/x-python",
   "name": "python",
   "nbconvert_exporter": "python",
   "pygments_lexer": "ipython3",
   "version": "3.11.3"
  }
 },
 "nbformat": 4,
 "nbformat_minor": 5
}
